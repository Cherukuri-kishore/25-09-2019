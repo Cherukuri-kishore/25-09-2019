{
 "cells": [
  {
   "cell_type": "code",
   "execution_count": null,
   "metadata": {},
   "outputs": [],
   "source": []
  },
  {
   "cell_type": "code",
   "execution_count": 2,
   "metadata": {},
   "outputs": [
    {
     "data": {
      "text/plain": [
       "[1, 4, 9, 16, 25, 36]"
      ]
     },
     "execution_count": 2,
     "metadata": {},
     "output_type": "execute_result"
    }
   ],
   "source": [
    "n=[1,2,3,4,5,6]\n",
    "sq_n=[]\n",
    "for i in n:\n",
    "    sq_n.append(i**2)\n",
    "sq_n"
   ]
  },
  {
   "cell_type": "code",
   "execution_count": 1,
   "metadata": {},
   "outputs": [
    {
     "data": {
      "text/plain": [
       "[1, 4, 9, 16, 25, 36, 49, 64, 81]"
      ]
     },
     "execution_count": 1,
     "metadata": {},
     "output_type": "execute_result"
    }
   ],
   "source": [
    "results=[i**2 for i in range (1,10)]\n",
    "results"
   ]
  },
  {
   "cell_type": "code",
   "execution_count": 7,
   "metadata": {},
   "outputs": [],
   "source": [
    "# function for odd or even\n",
    "def evenodd(n):\n",
    "    if n%2==0:\n",
    "        return True\n",
    "    else:\n",
    "        return False\n",
    "        \n",
    "num=[1,2,3,4,5,6,7,8,9]\n",
    "even=[]\n",
    "odd=[]\n",
    "for i in num:\n",
    "    c=evenodd(i)\n",
    "    if c==True:\n",
    "        even.append(i)\n",
    "    else:\n",
    "        odd.append(i)"
   ]
  },
  {
   "cell_type": "code",
   "execution_count": 8,
   "metadata": {},
   "outputs": [
    {
     "data": {
      "text/plain": [
       "[2, 4, 6, 8]"
      ]
     },
     "execution_count": 8,
     "metadata": {},
     "output_type": "execute_result"
    }
   ],
   "source": [
    "even"
   ]
  },
  {
   "cell_type": "raw",
   "metadata": {},
   "source": [
    "odd"
   ]
  },
  {
   "cell_type": "code",
   "execution_count": 11,
   "metadata": {},
   "outputs": [
    {
     "data": {
      "text/plain": [
       "['odd', 'even', 'odd', 'even', 'odd', 'even', 'odd', 'even', 'odd', 'even']"
      ]
     },
     "execution_count": 11,
     "metadata": {},
     "output_type": "execute_result"
    }
   ],
   "source": [
    "# using list comprehension\n",
    "number=[1,2,3,4,5,6,7,8,9,12342]\n",
    "result=[\"even\" if i%2==0 else \"odd\" for i in number]    # syntax [return_value if_condition_return_value for_loop]\n",
    "result"
   ]
  },
  {
   "cell_type": "code",
   "execution_count": 14,
   "metadata": {},
   "outputs": [
    {
     "data": {
      "text/plain": [
       "['a', 'p', 's', 's', 'd', 'c', ' ', 'M', 'S', 'T', 'P']"
      ]
     },
     "execution_count": 14,
     "metadata": {},
     "output_type": "execute_result"
    }
   ],
   "source": [
    "s=\"APSSDC mstp\"\n",
    "res=[letter.swapcase() for letter in s] # isupper() islower() isalpha() isdigit() \n",
    "res                                 # upper() lower() swapcase()"
   ]
  },
  {
   "cell_type": "code",
   "execution_count": 17,
   "metadata": {},
   "outputs": [
    {
     "name": "stdout",
     "output_type": "stream",
     "text": [
      "sa sdsd\n",
      "asd ada\n",
      "das dfsa\n",
      "saf sadda\n",
      "asf as\n"
     ]
    }
   ],
   "source": [
    "para=[\"sa sdsd\",\"asd ada\",\"das dfsa\",\"saf sadda\",\"asf as\"]\n",
    "wordlist=[]\n",
    "for sentence in para:\n",
    "    print(sentence)"
   ]
  },
  {
   "cell_type": "code",
   "execution_count": 19,
   "metadata": {},
   "outputs": [
    {
     "name": "stdout",
     "output_type": "stream",
     "text": [
      "['sas', 'dsd', 'a', 'sdada', 'dasdf', 'sa', 'safsad', 'da', 'asfa', 's']\n"
     ]
    }
   ],
   "source": [
    "para=[\"sas dsd\",\"a sdada\",\"dasdf sa\",\"safsad da\",\"asfa s\"]\n",
    "wordlist=[]\n",
    "for i in para:\n",
    "    for word in i.split():\n",
    "        wordlist.append(word)\n",
    "print( wordlist)"
   ]
  },
  {
   "cell_type": "code",
   "execution_count": 20,
   "metadata": {},
   "outputs": [
    {
     "name": "stdout",
     "output_type": "stream",
     "text": [
      "['sas', 'dsd', 'a', 'sdada', 'dasdf', 'sa', 'safsad', 'da', 'asfa', 's']\n"
     ]
    }
   ],
   "source": [
    "para=[\"sas dsd\",\"a sdada\",\"dasdf sa\",\"safsad da\",\"asfa s\"]\n",
    "res=[word for sentence in para for word in sentence.split()]\n",
    "print(res)"
   ]
  },
  {
   "cell_type": "code",
   "execution_count": 21,
   "metadata": {},
   "outputs": [
    {
     "name": "stdout",
     "output_type": "stream",
     "text": [
      "[1, 8, 27, 64, 125, 1030301, 1860867, 2924207]\n"
     ]
    }
   ],
   "source": [
    "def cube(n):\n",
    "    return n**3\n",
    "li=[1,2,3,4,5,101,123,143]\n",
    "n=[cube(i) for i in li]\n",
    "print(n)"
   ]
  },
  {
   "cell_type": "code",
   "execution_count": 24,
   "metadata": {},
   "outputs": [
    {
     "name": "stdout",
     "output_type": "stream",
     "text": [
      "['g', 'q', 't', 'r', 'u', 'j', 'h', 'y', 'h', 'w', 'u', 'i', 'y', 'e', 'r', 'f', 'y', 'h', 'e', 'g', 'y']\n"
     ]
    },
    {
     "data": {
      "text/plain": [
       "47"
      ]
     },
     "execution_count": 24,
     "metadata": {},
     "output_type": "execute_result"
    }
   ],
   "source": [
    "s='gq87truj3h94yhwuiyer8fyhegy8'\n",
    "k=[i for i in  s if i.isalpha()]\n",
    "print(k)\n",
    "sum([int(i) for i in s if i.isdigit()])"
   ]
  },
  {
   "cell_type": "code",
   "execution_count": 28,
   "metadata": {},
   "outputs": [
    {
     "name": "stdout",
     "output_type": "stream",
     "text": [
      "['chaitanya', 'cheukuri']\n",
      "['sai', 'cheukuri']\n"
     ]
    }
   ],
   "source": [
    "name=['chaitanya','kishore','sai','cheukuri','omkar','mukesh'] # startswith() endswith()\n",
    "print([i for i in name if i.startswith(\"ch\")])\n",
    "print([i for i in name if i.endswith(\"i\")])"
   ]
  },
  {
   "cell_type": "code",
   "execution_count": 29,
   "metadata": {},
   "outputs": [
    {
     "data": {
      "text/plain": [
       "['Chaitanya', 'Kishore', 'Sai', 'Cheukuri', 'Omkar', 'Mukesh']"
      ]
     },
     "execution_count": 29,
     "metadata": {},
     "output_type": "execute_result"
    }
   ],
   "source": [
    "name=['chaitanya','kishore','sai','cheukuri','omkar','mukesh']\n",
    "[i.capitalize() for i in name]"
   ]
  },
  {
   "cell_type": "code",
   "execution_count": 31,
   "metadata": {},
   "outputs": [
    {
     "data": {
      "text/plain": [
       "['Chaitanya', 'Kishore', 'Sai', 'Cheukuri Kishore', 'Omkar', 'Mukesh']"
      ]
     },
     "execution_count": 31,
     "metadata": {},
     "output_type": "execute_result"
    }
   ],
   "source": [
    "name=['chaitanya','kishore','sai','cheukuri kishore','omkar','mukesh']\n",
    "[i.title() for i in name]"
   ]
  },
  {
   "cell_type": "code",
   "execution_count": 32,
   "metadata": {},
   "outputs": [
    {
     "data": {
      "text/plain": [
       "['omkar']"
      ]
     },
     "execution_count": 32,
     "metadata": {},
     "output_type": "execute_result"
    }
   ],
   "source": [
    "name=['chaitanya','kishore','sai','cheukuri','omkar','mukesh']\n",
    "[i for i in name if len(i)==5]"
   ]
  },
  {
   "cell_type": "code",
   "execution_count": 39,
   "metadata": {},
   "outputs": [
    {
     "name": "stdout",
     "output_type": "stream",
     "text": [
      "['India', 'is']\n",
      "India is\n"
     ]
    }
   ],
   "source": [
    "sentence='India is my contry'\n",
    "print([i for i in sentence.split() if i.startswith(\"i\") or i.startswith(\"I\")])\n",
    "print(\" \".join([i for i in sentence.split() if i.startswith(\"i\") or i.startswith(\"I\")]))"
   ]
  },
  {
   "cell_type": "markdown",
   "metadata": {},
   "source": [
    "# dictionery comprehension"
   ]
  },
  {
   "cell_type": "code",
   "execution_count": 41,
   "metadata": {},
   "outputs": [
    {
     "name": "stdout",
     "output_type": "stream",
     "text": [
      "v21\n"
     ]
    }
   ],
   "source": [
    "d={'k':\"v21\",\"k2\":\"v2\"}\n",
    "print(d[\"k\"])"
   ]
  },
  {
   "cell_type": "code",
   "execution_count": 45,
   "metadata": {},
   "outputs": [
    {
     "name": "stdout",
     "output_type": "stream",
     "text": [
      "{1: 1, 2: 4, 3: 9, 4: 16, 5: 25, 6: 36, 7: 49, 8: 64, 9: 81, 10: 100, 11: 121, 12: 144, 13: 169, 14: 196, 15: 225, 16: 256, 17: 289, 18: 324, 19: 361, 20: 400, 21: 441, 22: 484, 23: 529, 24: 576, 25: 625, 26: 676, 27: 729, 28: 784, 29: 841, 30: 900, 31: 961, 32: 1024, 33: 1089, 34: 1156, 35: 1225, 36: 1296, 37: 1369, 38: 1444, 39: 1521, 40: 1600, 41: 1681, 42: 1764, 43: 1849, 44: 1936, 45: 2025, 46: 2116, 47: 2209, 48: 2304, 49: 2401, 50: 2500, 51: 2601, 52: 2704, 53: 2809, 54: 2916, 55: 3025, 56: 3136, 57: 3249, 58: 3364, 59: 3481, 60: 3600, 61: 3721, 62: 3844, 63: 3969, 64: 4096, 65: 4225, 66: 4356, 67: 4489, 68: 4624, 69: 4761, 70: 4900, 71: 5041, 72: 5184, 73: 5329, 74: 5476, 75: 5625, 76: 5776, 77: 5929, 78: 6084, 79: 6241, 80: 6400, 81: 6561, 82: 6724, 83: 6889, 84: 7056, 85: 7225, 86: 7396, 87: 7569, 88: 7744, 89: 7921, 90: 8100, 91: 8281, 92: 8464, 93: 8649, 94: 8836, 95: 9025, 96: 9216, 97: 9409, 98: 9604, 99: 9801, 100: 10000}\n",
      "{1024, 1, 4096, 9216, 4, 9, 16, 529, 3600, 4624, 25, 36, 2601, 49, 7225, 3136, 64, 576, 1089, 1600, 2116, 5184, 6724, 7744, 9801, 81, 8281, 6241, 100, 625, 121, 4225, 1156, 8836, 3721, 144, 1681, 2704, 5776, 4761, 2209, 676, 169, 3249, 9409, 196, 1225, 5329, 729, 225, 1764, 7396, 6889, 7921, 2809, 256, 2304, 6400, 3844, 4356, 784, 1296, 8464, 10000, 289, 3364, 4900, 5929, 1849, 9025, 324, 841, 1369, 2401, 2916, 5476, 361, 3969, 900, 9604, 4489, 400, 1936, 7056, 7569, 3481, 6561, 1444, 8100, 5041, 441, 961, 2500, 6084, 8649, 3025, 484, 2025, 1521, 5625}\n"
     ]
    }
   ],
   "source": [
    "\n",
    "# square of diff numbers\n",
    "res={i:i**2 for i in range(1,101)}\n",
    "print(res)\n",
    "res1={i**2 for i in range(1,101)}\n",
    "print(res1)"
   ]
  },
  {
   "cell_type": "code",
   "execution_count": 46,
   "metadata": {},
   "outputs": [
    {
     "name": "stdout",
     "output_type": "stream",
     "text": [
      "{2: 4, 4: 16, 6: 36, 8: 64, 10: 100, 12: 144, 14: 196, 16: 256, 18: 324, 20: 400, 22: 484, 24: 576, 26: 676, 28: 784, 30: 900, 32: 1024, 34: 1156, 36: 1296, 38: 1444, 40: 1600, 42: 1764, 44: 1936, 46: 2116, 48: 2304, 50: 2500, 52: 2704, 54: 2916, 56: 3136, 58: 3364, 60: 3600, 62: 3844, 64: 4096, 66: 4356, 68: 4624, 70: 4900, 72: 5184, 74: 5476, 76: 5776, 78: 6084, 80: 6400, 82: 6724, 84: 7056, 86: 7396, 88: 7744, 90: 8100, 92: 8464, 94: 8836, 96: 9216, 98: 9604, 100: 10000}\n"
     ]
    }
   ],
   "source": [
    "res2={i:i**2 for i in range(1,101) if i%2==0}\n",
    "print(res2)"
   ]
  },
  {
   "cell_type": "code",
   "execution_count": 50,
   "metadata": {},
   "outputs": [
    {
     "name": "stdout",
     "output_type": "stream",
     "text": [
      "{1: 'one', 2: 'two', 3: 'three', 4: 'four', 5: 'five', 6: 'six', 7: 'seven', 8: 'eight', 100: 'hundred'}\n"
     ]
    }
   ],
   "source": [
    "num=[1,2,3,4,5,6,7,8,100]\n",
    "text=['one',\"two\",\"three\",\"four\",\"five\",\"six\",\"seven\",\"eight\",\"hundred\"]\n",
    "o={k:v for k,v in zip(num,text)}\n",
    "print(o)"
   ]
  },
  {
   "cell_type": "code",
   "execution_count": 58,
   "metadata": {},
   "outputs": [
    {
     "name": "stdout",
     "output_type": "stream",
     "text": [
      "{'A': 'Apple', 'B': 'Ball', 'C': 'Cat', 'D': 'Donkey', 'E': 'Elephant'}\n"
     ]
    }
   ],
   "source": [
    "al=[\"apple\",\"ball\",\"cat\",\"donkey\",\"elephant\"]\n",
    "o={i[0].upper():i.capitalize() for i in al}\n",
    "print(o)"
   ]
  },
  {
   "cell_type": "markdown",
   "metadata": {},
   "source": [
    "# tuple comprehension"
   ]
  },
  {
   "cell_type": "code",
   "execution_count": 3,
   "metadata": {},
   "outputs": [
    {
     "name": "stdout",
     "output_type": "stream",
     "text": [
      "(1, 4, 9, 16, 25, 36, 49, 64, 81, 100, 121, 144, 169, 196, 225, 256, 289, 324)\n"
     ]
    }
   ],
   "source": [
    "res=tuple((i**2 for i in range (1,19)))\n",
    "print(res)"
   ]
  },
  {
   "cell_type": "code",
   "execution_count": null,
   "metadata": {},
   "outputs": [],
   "source": []
  }
 ],
 "metadata": {
  "kernelspec": {
   "display_name": "Python 3",
   "language": "python",
   "name": "python3"
  },
  "language_info": {
   "codemirror_mode": {
    "name": "ipython",
    "version": 3
   },
   "file_extension": ".py",
   "mimetype": "text/x-python",
   "name": "python",
   "nbconvert_exporter": "python",
   "pygments_lexer": "ipython3",
   "version": "3.7.3"
  }
 },
 "nbformat": 4,
 "nbformat_minor": 2
}
